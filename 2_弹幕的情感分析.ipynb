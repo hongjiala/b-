{
 "cells": [
  {
   "cell_type": "code",
   "execution_count": 1,
   "id": "0e7a6e06",
   "metadata": {},
   "outputs": [],
   "source": [
    "import pandas as pd  # 数据分析库\n",
    "from snownlp import SnowNLP  # 中文情感分析库\n",
    "from wordcloud import WordCloud  # 绘制词云图\n",
    "from pprint import pprint  # 美观打印\n",
    "import jieba.analyse  # jieba分词\n",
    "from PIL import Image  # 读取图片\n",
    "import numpy as np  # 将图片的像素点转换成矩阵数据"
   ]
  },
  {
   "cell_type": "code",
   "execution_count": 2,
   "id": "596ca8f9",
   "metadata": {},
   "outputs": [],
   "source": [
    "# 情感分析打标\n",
    "def sentiment_analyse(v_cmt_list):\n",
    "    \"\"\"\n",
    "    情感分析打分\n",
    "    :param v_cmt_list: 需要处理的评论列表\n",
    "    :return:\n",
    "    \"\"\"\n",
    "    score_list = []  # 情感评分值\n",
    "    tag_list = []  # 打标分类结果\n",
    "    pos_count = 0  # 计数器-积极\n",
    "    neg_count = 0  # 计数器-消极\n",
    "    for comment in v_cmt_list:\n",
    "        tag = ''\n",
    "        sentiments_score = SnowNLP(comment).sentiments\n",
    "        if sentiments_score < 0.3:\n",
    "            tag = '消极'\n",
    "            neg_count += 1\n",
    "        else:\n",
    "            tag = '积极'\n",
    "            pos_count += 1\n",
    "        score_list.append(sentiments_score)  # 得分值\n",
    "        tag_list.append(tag)  # 判定结果\n",
    "    print('积极评价占比：', round(pos_count / (pos_count + neg_count), 4))\n",
    "    print('消极评价占比：', round(neg_count / (pos_count + neg_count), 4))\n",
    "    df['情感得分'] = score_list\n",
    "    df['分析结果'] = tag_list\n",
    "    # 把情感分析结果保存到excel文件\n",
    "    df.to_excel('谷爱凌_情感评分结果.xlsx', index=None)\n",
    "    print('情感分析结果已生成：谷爱凌_情感评分结果.xlsx')"
   ]
  },
  {
   "cell_type": "code",
   "execution_count": 3,
   "id": "588b614b",
   "metadata": {},
   "outputs": [],
   "source": [
    "def make_wordcloud(v_str, v_stopwords, v_outfile):\n",
    "    \"\"\"\n",
    "    绘制词云图\n",
    "    :param v_str: 输入字符串\n",
    "    :param v_stopwords: 停用词\n",
    "    :param v_outfile: 输出文件\n",
    "    :return: None\n",
    "    \"\"\"\n",
    "    print('开始生成词云图：{}'.format(v_outfile))\n",
    "    try:\n",
    "        stopwords = v_stopwords  # 停用词\n",
    "        backgroud_Image = np.array(Image.open('谷爱凌背景图.png'))  # 读取背景图片\n",
    "        wc = WordCloud(\n",
    "            background_color=\"white\",  # 背景颜色\n",
    "            width=1500,  # 图宽\n",
    "            height=1200,  # 图高\n",
    "            max_words=1000,  # 最多字数\n",
    "            # 字体文件路径，根据实际情况(Mac)替换\n",
    "            font_path='/System/Library/Fonts/SimHei.ttf',\n",
    "            # font_path=\"C:\\Windows\\Fonts\\simhei.ttf\",  # 字体文件路径，根据实际情况(Windows)替换\n",
    "            stopwords=stopwords,  # 停用词\n",
    "            mask=backgroud_Image,  # 背景图片\n",
    "        )\n",
    "        jieba_text = \" \".join(jieba.lcut(v_str))  # jieba分词\n",
    "        wc.generate_from_text(jieba_text)  # 生成词云图\n",
    "        wc.to_file(v_outfile)  # 保存图片文件\n",
    "        print('词云文件保存成功：{}'.format(v_outfile))\n",
    "    except Exception as e:\n",
    "        print('make_wordcloud except: {}'.format(str(e)))"
   ]
  },
  {
   "cell_type": "code",
   "execution_count": 4,
   "id": "23c029ac",
   "metadata": {},
   "outputs": [],
   "source": [
    "df = pd.read_csv('谷爱凌弹幕.csv')  # 读取excel"
   ]
  },
  {
   "cell_type": "code",
   "execution_count": 6,
   "id": "f3a1e476",
   "metadata": {},
   "outputs": [
    {
     "name": "stdout",
     "output_type": "stream",
     "text": [
      "length of v_cmt_list is:2661\n"
     ]
    }
   ],
   "source": [
    "v_cmt_list = df['弹幕内容'].values.tolist()  # 评论内容列表\n",
    "print('length of v_cmt_list is:{}'.format(len(v_cmt_list)))"
   ]
  },
  {
   "cell_type": "code",
   "execution_count": 7,
   "id": "7edb4d1b",
   "metadata": {},
   "outputs": [],
   "source": [
    "v_cmt_list = [str(i) for i in v_cmt_list]  # 数据清洗-list所有元素转换成字符串"
   ]
  },
  {
   "cell_type": "code",
   "execution_count": 8,
   "id": "d328a274",
   "metadata": {},
   "outputs": [],
   "source": [
    "v_cmt_str = ' '.join(str(i) for i in v_cmt_list)  # 评论内容转换为字符串"
   ]
  },
  {
   "cell_type": "code",
   "execution_count": 9,
   "id": "fc95495b",
   "metadata": {},
   "outputs": [
    {
     "name": "stdout",
     "output_type": "stream",
     "text": [
      "积极评价占比： 0.9049\n",
      "消极评价占比： 0.0951\n",
      "情感分析结果已生成：谷爱凌_情感评分结果.xlsx\n"
     ]
    }
   ],
   "source": [
    "# 1、情感分析打分\n",
    "sentiment_analyse(v_cmt_list=v_cmt_list)"
   ]
  },
  {
   "cell_type": "code",
   "execution_count": 11,
   "id": "17823eed",
   "metadata": {},
   "outputs": [
    {
     "name": "stdout",
     "output_type": "stream",
     "text": [
      "top10关键词及权重：\n",
      "[('加油', 0.5639019615961216),\n",
      " ('祝福', 0.2097939445347145),\n",
      " ('谷爱凌', 0.14626550778425776),\n",
      " ('卧槽', 0.12094118674932029),\n",
      " ('中国', 0.06708173897846384),\n",
      " ('键盘', 0.0659939099894372),\n",
      " ('厉害', 0.060244303047569336),\n",
      " ('国籍', 0.059496894882816745),\n",
      " ('天才', 0.05499776168548123),\n",
      " ('妈妈', 0.04990450209996737)]\n"
     ]
    }
   ],
   "source": [
    "# 2、用jieba统计弹幕中的top10高频词\n",
    "keywords_top10 = jieba.analyse.extract_tags(v_cmt_str, withWeight=True, topK=10)\n",
    "print('top10关键词及权重：')\n",
    "pprint(keywords_top10)"
   ]
  },
  {
   "cell_type": "code",
   "execution_count": 12,
   "id": "af104bd2",
   "metadata": {},
   "outputs": [
    {
     "name": "stdout",
     "output_type": "stream",
     "text": [
      "开始生成词云图：谷爱凌弹幕_词云图.jpg\n",
      "词云文件保存成功：谷爱凌弹幕_词云图.jpg\n"
     ]
    }
   ],
   "source": [
    "# 3、画词云图\n",
    "make_wordcloud(v_str=v_cmt_str,\n",
    "               v_stopwords=['的', '啊', '她', '是', '了', '你', '我', '都',\n",
    "                            '也', '不', '在', '吧', '说', '就是', '这', '有'],  # 停用词\n",
    "               v_outfile='谷爱凌弹幕_词云图.jpg'  # 词云图文件名\n",
    "               )"
   ]
  },
  {
   "cell_type": "code",
   "execution_count": null,
   "id": "4c2625e5",
   "metadata": {},
   "outputs": [],
   "source": []
  }
 ],
 "metadata": {
  "kernelspec": {
   "display_name": "Python 3 (ipykernel)",
   "language": "python",
   "name": "python3"
  },
  "language_info": {
   "codemirror_mode": {
    "name": "ipython",
    "version": 3
   },
   "file_extension": ".py",
   "mimetype": "text/x-python",
   "name": "python",
   "nbconvert_exporter": "python",
   "pygments_lexer": "ipython3",
   "version": "3.8.19"
  },
  "toc": {
   "base_numbering": 1,
   "nav_menu": {},
   "number_sections": false,
   "sideBar": true,
   "skip_h1_title": false,
   "title_cell": "Table of Contents",
   "title_sidebar": "Contents",
   "toc_cell": false,
   "toc_position": {},
   "toc_section_display": true,
   "toc_window_display": false
  }
 },
 "nbformat": 4,
 "nbformat_minor": 5
}
